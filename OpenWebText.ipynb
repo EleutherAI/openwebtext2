{
  "nbformat": 4,
  "nbformat_minor": 0,
  "metadata": {
    "colab": {
      "name": "OpenWebText.ipynb",
      "provenance": [],
      "private_outputs": true,
      "collapsed_sections": []
    },
    "kernelspec": {
      "name": "python3",
      "display_name": "Python 3"
    }
  },
  "cells": [
    {
      "cell_type": "code",
      "metadata": {
        "id": "OxJDr1aR3mwR",
        "colab_type": "code",
        "colab": {},
        "cellView": "form"
      },
      "source": [
        "#@title Setup\n",
        "\n",
        "!git clone https://github.com/EleutherAI/pushshift_dump_processing\n",
        "%cd pushshift_dump_processing\n",
        "\n",
        "import time\n",
        "import datetime\n",
        "import requests\n",
        "import os\n",
        "import logging\n",
        "from logger import setup_logger\n",
        "from dateutil.relativedelta import *\n",
        "import tqdm\n",
        "import math\n",
        "import hashlib\n",
        "import json\n",
        "import glob\n",
        "\n",
        "%pip install -r requirements.txt"
      ],
      "execution_count": null,
      "outputs": []
    },
    {
      "cell_type": "code",
      "metadata": {
        "id": "8mxNwN8P0aRS",
        "colab_type": "code",
        "colab": {},
        "cellView": "form"
      },
      "source": [
        "#@title Downloads all pushshift dumps from selected date - present\n",
        "from download_pushshift_dumps import main\n",
        "\n",
        "start_year = 2011 #@param {type:\"integer\"}\n",
        "start_month = 1 #@param {type:\"integer\"}\n",
        "\n",
        "start_date = datetime.datetime(start_year, start_month, 1)    \n",
        "end_date = datetime.datetime.now()\n",
        "\n",
        "logfile_path = \"download_pushshift_dumps.log\"\n",
        "download_directory = \"dumps\"\n",
        "\n",
        "main(logfile_path, start_date, end_date, download_directory)"
      ],
      "execution_count": null,
      "outputs": []
    },
    {
      "cell_type": "code",
      "metadata": {
        "id": "sMA4rkxj3TAx",
        "colab_type": "code",
        "colab": {},
        "cellView": "form"
      },
      "source": [
        "#@title Parse urls from all downloaded pushshift files\n",
        "\n",
        "from download_pushshift_dumps import main\n",
        "\n",
        "dumps_dir = \"dumps\"\n",
        "output_dir = \"output\"\n",
        "\n",
        "main(dumps_dir, output_dir)"
      ],
      "execution_count": null,
      "outputs": []
    },
    {
      "cell_type": "code",
      "metadata": {
        "id": "PuZUCWWi_Kqz",
        "colab_type": "code",
        "colab": {},
        "cellView": "form"
      },
      "source": [
        "#@title Scrapes text from all parsed urls\n",
        "\n",
        "from scrape_urls import main\n",
        "\n",
        "all_processed_dumps = glob.glob(\"output/RS_*.txt\")\n",
        "logfile_name = \"scrape_urls.log\"\n",
        "process_count = 60\n",
        "chunk_size = 10000\n",
        "output_directory = \"scrapes\"\n",
        "\n",
        "for dump in all_processed_dumps:\n",
        "  main(logfile_name, dump, output_directory, chunk_size=chunk_size, \n",
        "       process_count=process_count)"
      ],
      "execution_count": null,
      "outputs": []
    }
  ]
}